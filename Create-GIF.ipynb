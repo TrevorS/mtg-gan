{
 "cells": [
  {
   "cell_type": "code",
   "execution_count": 5,
   "id": "double-vector",
   "metadata": {},
   "outputs": [],
   "source": [
    "import glob\n",
    "\n",
    "import imageio\n",
    "import PIL\n",
    "import PIL.Image"
   ]
  },
  {
   "cell_type": "code",
   "execution_count": 6,
   "id": "fatal-attraction",
   "metadata": {},
   "outputs": [],
   "source": [
    "output = \"mtg-gan-2.gif\"\n",
    "\n",
    "with imageio.get_writer(output, mode=\"I\") as writer:\n",
    "    filenames = glob.glob(\"./sample_output/*.png\")\n",
    "    filenames = sorted(filenames)\n",
    "    \n",
    "    for name in filenames:\n",
    "        image = imageio.imread(name)\n",
    "        writer.append_data(image)\n",
    "        \n",
    "    image = imageio.imread(name)\n",
    "    writer.append_data(image)"
   ]
  },
  {
   "cell_type": "code",
   "execution_count": null,
   "id": "impaired-employee",
   "metadata": {},
   "outputs": [],
   "source": []
  }
 ],
 "metadata": {
  "kernelspec": {
   "display_name": "Python 3",
   "language": "python",
   "name": "python3"
  },
  "language_info": {
   "codemirror_mode": {
    "name": "ipython",
    "version": 3
   },
   "file_extension": ".py",
   "mimetype": "text/x-python",
   "name": "python",
   "nbconvert_exporter": "python",
   "pygments_lexer": "ipython3",
   "version": "3.8.6"
  }
 },
 "nbformat": 4,
 "nbformat_minor": 5
}
